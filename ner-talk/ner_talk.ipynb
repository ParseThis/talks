{
  "nbformat": 4,
  "nbformat_minor": 0,
  "metadata": {
    "colab": {
      "name": "NER Talk.ipynb",
      "version": "0.3.2",
      "views": {},
      "default_view": {},
      "provenance": [],
      "collapsed_sections": []
    },
    "kernelspec": {
      "display_name": "Python 3",
      "language": "python",
      "name": "python3"
    }
  },
  "cells": [
    {
      "metadata": {
        "id": "fAKJeK4Y_vSr",
        "colab_type": "code",
        "colab": {
          "autoexec": {
            "startup": false,
            "wait_interval": 0
          },
          "base_uri": "https://localhost:8080/",
          "height": 34
        },
        "outputId": "9eb2404d-a72a-4332-b3c6-4899491274d4",
        "executionInfo": {
          "status": "ok",
          "timestamp": 1525814363554,
          "user_tz": 240,
          "elapsed": 2254,
          "user": {
            "displayName": "Orson Adams",
            "photoUrl": "https://lh3.googleusercontent.com/a/default-user=s128",
            "userId": "100994524776377674096"
          }
        }
      },
      "cell_type": "code",
      "source": [
        "from keras.layers import LSTM, GRU, Input, Embedding, Dense,concatenate\n",
        "from keras.layers import TimeDistributed, Conv1D, Flatten\n",
        "from keras.models import Model"
      ],
      "execution_count": 2,
      "outputs": [
        {
          "output_type": "stream",
          "text": [
            "Using TensorFlow backend.\n"
          ],
          "name": "stderr"
        }
      ]
    },
    {
      "metadata": {
        "id": "acX0XX4Ln6ps",
        "colab_type": "code",
        "colab": {
          "autoexec": {
            "startup": false,
            "wait_interval": 0
          }
        }
      },
      "cell_type": "code",
      "source": [
        "# !git clone https://www.github.com/keras-team/keras-contrib.git\n",
        "# !cd keras-contrib\n",
        "# !python setup.py install\n"
      ],
      "execution_count": 0,
      "outputs": []
    },
    {
      "metadata": {
        "id": "K7ZgwHya_vS7",
        "colab_type": "code",
        "colab": {
          "autoexec": {
            "startup": false,
            "wait_interval": 0
          }
        }
      },
      "cell_type": "code",
      "source": [
        "from keras_contrib.layers import CRF"
      ],
      "execution_count": 0,
      "outputs": []
    },
    {
      "metadata": {
        "id": "fPaDk-7r_vTN",
        "colab_type": "code",
        "colab": {
          "autoexec": {
            "startup": false,
            "wait_interval": 0
          }
        }
      },
      "cell_type": "code",
      "source": [
        "word_input = Input(shape=(1000,), dtype=\"int32\", name=\"word_input\")\n",
        "word_emb = Embedding(1000, 128)(word_input)\n",
        "\n",
        "fwd = LSTM(128, return_sequences=True)(word_emb)\n",
        "bwd = LSTM(128, return_sequences=True)(word_emb)\n",
        "\n",
        "merged = concatenate([fwd, bwd], axis=-1)\n",
        "dense = TimeDistributed(Dense(5, activation='softmax'))(merged)\n",
        "crf = CRF(10, sparse_target=True)\n",
        "\n",
        "output = crf(dense)\n",
        "model = Model(inputs=[word_input], outputs=[output])"
      ],
      "execution_count": 0,
      "outputs": []
    },
    {
      "metadata": {
        "id": "keqUPsV6u9Tz",
        "colab_type": "code",
        "colab": {
          "autoexec": {
            "startup": false,
            "wait_interval": 0
          },
          "base_uri": "https://localhost:8080/",
          "height": 414
        },
        "outputId": "5a2d53a1-2b01-4645-9e42-adc3f9d0e390",
        "executionInfo": {
          "status": "ok",
          "timestamp": 1525814583673,
          "user_tz": 240,
          "elapsed": 320,
          "user": {
            "displayName": "Orson Adams",
            "photoUrl": "https://lh3.googleusercontent.com/a/default-user=s128",
            "userId": "100994524776377674096"
          }
        }
      },
      "cell_type": "code",
      "source": [
        "model.summary()"
      ],
      "execution_count": 13,
      "outputs": [
        {
          "output_type": "stream",
          "text": [
            "__________________________________________________________________________________________________\n",
            "Layer (type)                    Output Shape         Param #     Connected to                     \n",
            "==================================================================================================\n",
            "word_input (InputLayer)         (None, 1000)         0                                            \n",
            "__________________________________________________________________________________________________\n",
            "embedding_2 (Embedding)         (None, 1000, 128)    128000      word_input[0][0]                 \n",
            "__________________________________________________________________________________________________\n",
            "lstm_3 (LSTM)                   (None, 1000, 128)    131584      embedding_2[0][0]                \n",
            "__________________________________________________________________________________________________\n",
            "lstm_4 (LSTM)                   (None, 1000, 128)    131584      embedding_2[0][0]                \n",
            "__________________________________________________________________________________________________\n",
            "concatenate_2 (Concatenate)     (None, 1000, 256)    0           lstm_3[0][0]                     \n",
            "                                                                 lstm_4[0][0]                     \n",
            "__________________________________________________________________________________________________\n",
            "time_distributed_2 (TimeDistrib (None, 1000, 5)      1285        concatenate_2[0][0]              \n",
            "__________________________________________________________________________________________________\n",
            "crf_2 (CRF)                     (None, 1000, 10)     180         time_distributed_2[0][0]         \n",
            "==================================================================================================\n",
            "Total params: 392,633\n",
            "Trainable params: 392,633\n",
            "Non-trainable params: 0\n",
            "__________________________________________________________________________________________________\n"
          ],
          "name": "stdout"
        }
      ]
    },
    {
      "metadata": {
        "id": "LMhOHVxP_vTa",
        "colab_type": "code",
        "colab": {
          "autoexec": {
            "startup": false,
            "wait_interval": 0
          }
        }
      },
      "cell_type": "code",
      "source": [
        "model.compile(loss=crf.loss_function,  ds9\n",
        "              optimizer='adam', metrics=[crf.accuracy])"
      ],
      "execution_count": 0,
      "outputs": []
    }
  ]
}